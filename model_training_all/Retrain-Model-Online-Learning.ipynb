{
 "cells": [
  {
   "cell_type": "code",
   "execution_count": 7,
   "metadata": {},
   "outputs": [],
   "source": [
    "import numpy as np\n",
    "import pandas as pd\n",
    "import matplotlib.pyplot as plt\n",
    "import cv2\n",
    "%matplotlib inline\n",
    "import os\n",
    "import joblib\n",
    "import json\n",
    "import pywt\n",
    "import shutil"
   ]
  },
  {
   "cell_type": "code",
   "execution_count": 5,
   "metadata": {},
   "outputs": [],
   "source": [
    "face_cascade = cv2.CascadeClassifier('./haarcascades/haarcascade_frontalface_default.xml')\n",
    "eye_cascade = cv2.CascadeClassifier('./haarcascades/haarcascade_eye.xml')\n",
    "model = joblib.load('./saved_model_sgd.pkl')\n",
    "original_images = './images_dataset/'\n",
    "cropped_images = './images_cropped/'\n",
    "with open(\"./celebrity_key_dict.json\") as f :\n",
    "    celebrities_dic = json.load(f)"
   ]
  },
  {
   "cell_type": "code",
   "execution_count": 4,
   "metadata": {},
   "outputs": [],
   "source": [
    "def get_cropped_image_if_1_face(path):\n",
    "    img = cv2.imread(path)\n",
    "    gray = cv2.cvtColor(img,cv2.COLOR_BGR2GRAY)\n",
    "    faces = face_cascade.detectMultiScale(gray,1.3,5)\n",
    "    if len(faces) >= 1:\n",
    "        for (x,y,w,h) in faces:\n",
    "            roi_color = img[y:y+h,x:x+w]\n",
    "            return roi_color\n",
    "    else:\n",
    "        print(f'{len(faces)} face are present in image : {path}')\n",
    "    return None\n",
    "\n",
    "def get_cropped_image_if_1_face_and_2_eyes(path):\n",
    "    img = cv2.imread(path)\n",
    "    gray = cv2.cvtColor(img,cv2.COLOR_BGR2GRAY)\n",
    "    faces = face_cascade.detectMultiScale(gray,1.3,5)\n",
    "    if len(faces) == 1:\n",
    "        for (x,y,w,h) in faces:\n",
    "            roi_gray = gray[y:y+h,x:x+w]\n",
    "            roi_color = img[y:y+h,x:x+w]\n",
    "            eyes = eye_cascade.detectMultiScale(roi_gray)\n",
    "            if len(eyes) >= 2:\n",
    "                return roi_color\n",
    "            else:\n",
    "                print(f'{len(eyes)} eye are present in image : {path}')\n",
    "    else:\n",
    "        print(f'{len(faces)} face are present in image : {path}')\n",
    "    return None\n",
    "\n",
    "def wavelet_generaotor(img, mode=\"haar\",level=1):\n",
    "    inArray = img\n",
    "    inArray = cv2.cvtColor(inArray,cv2.COLOR_RGB2GRAY)\n",
    "    inArray = np.float32(inArray)\n",
    "    # Compute And Process Coefficients\n",
    "    coeffs = pywt.wavedec2(inArray,mode,level=level)\n",
    "    coeffs_H = list(coeffs)\n",
    "    coeffs_H[0] *= 0\n",
    "    # Reconstuction\n",
    "    inArray_H = pywt.waverec2(coeffs_H,mode)\n",
    "    inArray_H *= 255\n",
    "    inArray_H = np.uint8(inArray_H)\n",
    "    return inArray_H\n",
    "\n",
    "def predict(img_i):\n",
    "    img  = get_cropped_image_if_1_face(img_i)\n",
    "    if img is not None:\n",
    "        scalled_raw_img = cv2.resize(img,(32,32))\n",
    "        img_wavlet_form=wavelet_generaotor(img,\"db1\",5)\n",
    "        scalled_img_wavlet_form = cv2.resize(img_wavlet_form,(32,32))\n",
    "        stacked_image = np.vstack((scalled_raw_img.reshape(32*32*3,1),scalled_img_wavlet_form.reshape(32*32,1)))\n",
    "        stacked_image = stacked_image.reshape(1,stacked_image.shape[0])\n",
    "        key = model.predict(stacked_image)[0]\n",
    "        for i in celebrities_dic:\n",
    "            if celebrities_dic[i] == key :\n",
    "                print(i)\n",
    "                break\n",
    "    else:\n",
    "        print(\"Error\")"
   ]
  },
  {
   "cell_type": "code",
   "execution_count": 9,
   "metadata": {},
   "outputs": [
    {
     "name": "stdout",
     "output_type": "stream",
     "text": [
      "1 eye are present in image : ./images_dataset/elon_musk/7576ecd516344ef1b9698d459047f1f7.jpg\n",
      "2 face are present in image : ./images_dataset/elon_musk/elon-musk (1).webp\n",
      "2 face are present in image : ./images_dataset/elon_musk/Elon-Musk-2010.jpg\n",
      "0 eye are present in image : ./images_dataset/elon_musk/GettyImages-1181925987.jpg\n",
      "0 face are present in image : ./images_dataset/elon_musk/images.jpg\n",
      "2 face are present in image : ./images_dataset/elon_musk/los-angeles-feb-26-elon-260nw-591307859.webp\n",
      "1 eye are present in image : ./images_dataset/elon_musk/musk-gty-rc-200909_hpMain_16x9t_608.jpg\n"
     ]
    }
   ],
   "source": [
    "# Retrain\n",
    "name_of_retrain_model = \"elon_musk\"\n",
    "currennt_dir_for_cropped_images = cropped_images+name_of_retrain_model+'/'\n",
    "\n",
    "\n",
    "if os.path.exists(currennt_dir_for_cropped_images):\n",
    "    shutil.rmtree(currennt_dir_for_cropped_images)\n",
    "os.mkdir(currennt_dir_for_cropped_images)\n",
    "for imgs in os.scandir(original_images+name_of_retrain_model+'/'):\n",
    "    if imgs.is_file():\n",
    "        tmp = get_cropped_image_if_1_face_and_2_eyes(imgs.path)\n",
    "        if tmp is None:\n",
    "            pass\n",
    "        else :\n",
    "            try :\n",
    "                cv2.imwrite(currennt_dir_for_cropped_images+imgs.name,tmp)         \n",
    "            except :\n",
    "                print(f\"Save Failed : {currennt_dir_for_cropped_images+imgs.name}\")\n",
    "                print(\"Retrying.....\")\n",
    "                try:   \n",
    "                    filename = currennt_dir_for_cropped_images+imgs.name\n",
    "                    filename = os.path.splitext(filename)[0]+\".jpg\"\n",
    "                    cv2.imwrite(filename,tmp)         \n",
    "                except:\n",
    "                    print(f\"Save Failed : {currennt_dir_for_cropped_images+imgs.name}\")"
   ]
  },
  {
   "cell_type": "code",
   "execution_count": 11,
   "metadata": {},
   "outputs": [],
   "source": [
    "celebrities_dic['elon_musk']=5"
   ]
  },
  {
   "cell_type": "code",
   "execution_count": 15,
   "metadata": {},
   "outputs": [],
   "source": [
    "with open(\"./celebrity_key_dict.json\",\"w\") as f :\n",
    "    f.write(json.dumps(celebrities_dic))"
   ]
  },
  {
   "cell_type": "code",
   "execution_count": 21,
   "metadata": {},
   "outputs": [
    {
     "data": {
      "text/plain": [
       "['./images_cropped/elon_musk/105773423-1551716977818rtx6p9yw.jpg',\n",
       " './images_cropped/elon_musk/1206292068.jpg.jpg',\n",
       " './images_cropped/elon_musk/1340px-elon_musk_presenting_teslas_fully_autonomous_future_40705940233_10_0.jpg',\n",
       " './images_cropped/elon_musk/180515-10thingselonmusk-editorial.jpg',\n",
       " './images_cropped/elon_musk/200131-elon-musk-al-1440_85b17128253456024fdcc368353c8d0e.jpg',\n",
       " './images_cropped/elon_musk/960x0.jpg',\n",
       " './images_cropped/elon_musk/ac8b25d14dbf6b808c0c84527338b04d.jpg',\n",
       " './images_cropped/elon_musk/AP_20322727772083.jpg',\n",
       " './images_cropped/elon_musk/elon-musk.webp',\n",
       " './images_cropped/elon_musk/ElonMusk-RTX2J8M (1).jpg',\n",
       " './images_cropped/elon_musk/elon_musk_royal_society (1).jpg',\n",
       " './images_cropped/elon_musk/Elon_Musk_Royal_Society.jpg',\n",
       " './images_cropped/elon_musk/gettyimages-930522554-612x612.jpg',\n",
       " './images_cropped/elon_musk/getty_489769706_200013332000928069_437741.jpg',\n",
       " './images_cropped/elon_musk/MUS00005-Elon-Musk (1).jpg',\n",
       " './images_cropped/elon_musk/MUS00005-Elon-Musk.jpg',\n",
       " './images_cropped/elon_musk/MV5BMjIyNTgwOTc0Ml5BMl5BanBnXkFtZTgwMzEwMTk5MzE@._V1_UY1200_CR85,0,630,1200_AL_.jpg',\n",
       " './images_cropped/elon_musk/original.jpg',\n",
       " './images_cropped/elon_musk/spacex_ceo_elon_musk_visits_nnc_and_afspc_190416-f-zz999-006_cropped.jpg']"
      ]
     },
     "execution_count": 21,
     "metadata": {},
     "output_type": "execute_result"
    }
   ],
   "source": [
    "# List All Files\n",
    "trainingfilelist = []\n",
    "for j in os.scandir(currennt_dir_for_cropped_images):\n",
    "    trainingfilelist.append(j.path)\n",
    "trainingfilelist"
   ]
  },
  {
   "cell_type": "code",
   "execution_count": 22,
   "metadata": {},
   "outputs": [],
   "source": [
    "X = []\n",
    "Y = []\n",
    "for training_image in trainingfilelist:\n",
    "    img  = cv2.imread(training_image)\n",
    "    scalled_raw_img = cv2.resize(img,(32,32))\n",
    "    img_wavlet_form=wavelet_generaotor(img,\"db1\",5)\n",
    "    scalled_img_wavlet_form = cv2.resize(img_wavlet_form,(32,32))\n",
    "    stacked_image = np.vstack((scalled_raw_img.reshape(32*32*3,1),scalled_img_wavlet_form.reshape(32*32,1)))\n",
    "    X.append(stacked_image)\n",
    "    Y.append(celebrities_dic['elon_musk'])"
   ]
  },
  {
   "cell_type": "code",
   "execution_count": 24,
   "metadata": {},
   "outputs": [
    {
     "data": {
      "text/plain": [
       "[5, 5, 5, 5, 5, 5, 5, 5, 5, 5, 5, 5, 5, 5, 5, 5, 5, 5, 5]"
      ]
     },
     "execution_count": 24,
     "metadata": {},
     "output_type": "execute_result"
    }
   ],
   "source": [
    "Y"
   ]
  },
  {
   "cell_type": "code",
   "execution_count": 29,
   "metadata": {},
   "outputs": [
    {
     "data": {
      "text/plain": [
       "(19, 4096, 1)"
      ]
     },
     "execution_count": 29,
     "metadata": {},
     "output_type": "execute_result"
    }
   ],
   "source": [
    "np.array(X).shape"
   ]
  },
  {
   "cell_type": "code",
   "execution_count": 30,
   "metadata": {},
   "outputs": [
    {
     "data": {
      "text/plain": [
       "(4096, 1)"
      ]
     },
     "execution_count": 30,
     "metadata": {},
     "output_type": "execute_result"
    }
   ],
   "source": [
    "X[0].shape"
   ]
  },
  {
   "cell_type": "code",
   "execution_count": 31,
   "metadata": {},
   "outputs": [],
   "source": [
    "X = np.array(X).reshape(len(X),X[0].shape[0]).astype(float)"
   ]
  },
  {
   "cell_type": "code",
   "execution_count": 33,
   "metadata": {},
   "outputs": [
    {
     "data": {
      "text/plain": [
       "(19, 4096)"
      ]
     },
     "execution_count": 33,
     "metadata": {},
     "output_type": "execute_result"
    }
   ],
   "source": [
    "X.shape"
   ]
  },
  {
   "cell_type": "code",
   "execution_count": 36,
   "metadata": {},
   "outputs": [
    {
     "ename": "ValueError",
     "evalue": "`classes=array([5])` is not the same as on last call to partial_fit, was: array([0, 1, 2, 3, 4])",
     "output_type": "error",
     "traceback": [
      "\u001b[1;31m---------------------------------------------------------------------------\u001b[0m",
      "\u001b[1;31mValueError\u001b[0m                                Traceback (most recent call last)",
      "\u001b[1;32m<ipython-input-36-4fafeb994dd1>\u001b[0m in \u001b[0;36m<module>\u001b[1;34m\u001b[0m\n\u001b[1;32m----> 1\u001b[1;33m \u001b[0mmodel\u001b[0m\u001b[1;33m.\u001b[0m\u001b[0mpartial_fit\u001b[0m\u001b[1;33m(\u001b[0m\u001b[0mX\u001b[0m\u001b[1;33m,\u001b[0m\u001b[0mY\u001b[0m\u001b[1;33m,\u001b[0m\u001b[0mclasses\u001b[0m\u001b[1;33m=\u001b[0m\u001b[0mnp\u001b[0m\u001b[1;33m.\u001b[0m\u001b[0munique\u001b[0m\u001b[1;33m(\u001b[0m\u001b[0mY\u001b[0m\u001b[1;33m)\u001b[0m\u001b[1;33m)\u001b[0m\u001b[1;33m\u001b[0m\u001b[1;33m\u001b[0m\u001b[0m\n\u001b[0m",
      "\u001b[1;32m~\\AppData\\Roaming\\Python\\Python38\\site-packages\\sklearn\\linear_model\\_stochastic_gradient.py\u001b[0m in \u001b[0;36mpartial_fit\u001b[1;34m(self, X, y, classes, sample_weight)\u001b[0m\n\u001b[0;32m    689\u001b[0m                              \u001b[1;34m\"Pass the resulting weights as the class_weight \"\u001b[0m\u001b[1;33m\u001b[0m\u001b[1;33m\u001b[0m\u001b[0m\n\u001b[0;32m    690\u001b[0m                              \"parameter.\".format(self.class_weight))\n\u001b[1;32m--> 691\u001b[1;33m         return self._partial_fit(X, y, alpha=self.alpha, C=1.0, loss=self.loss,\n\u001b[0m\u001b[0;32m    692\u001b[0m                                  \u001b[0mlearning_rate\u001b[0m\u001b[1;33m=\u001b[0m\u001b[0mself\u001b[0m\u001b[1;33m.\u001b[0m\u001b[0mlearning_rate\u001b[0m\u001b[1;33m,\u001b[0m \u001b[0mmax_iter\u001b[0m\u001b[1;33m=\u001b[0m\u001b[1;36m1\u001b[0m\u001b[1;33m,\u001b[0m\u001b[1;33m\u001b[0m\u001b[1;33m\u001b[0m\u001b[0m\n\u001b[0;32m    693\u001b[0m                                  \u001b[0mclasses\u001b[0m\u001b[1;33m=\u001b[0m\u001b[0mclasses\u001b[0m\u001b[1;33m,\u001b[0m \u001b[0msample_weight\u001b[0m\u001b[1;33m=\u001b[0m\u001b[0msample_weight\u001b[0m\u001b[1;33m,\u001b[0m\u001b[1;33m\u001b[0m\u001b[1;33m\u001b[0m\u001b[0m\n",
      "\u001b[1;32m~\\AppData\\Roaming\\Python\\Python38\\site-packages\\sklearn\\linear_model\\_stochastic_gradient.py\u001b[0m in \u001b[0;36m_partial_fit\u001b[1;34m(self, X, y, alpha, C, loss, learning_rate, max_iter, classes, sample_weight, coef_init, intercept_init)\u001b[0m\n\u001b[0;32m    493\u001b[0m         \u001b[0mn_samples\u001b[0m\u001b[1;33m,\u001b[0m \u001b[0mn_features\u001b[0m \u001b[1;33m=\u001b[0m \u001b[0mX\u001b[0m\u001b[1;33m.\u001b[0m\u001b[0mshape\u001b[0m\u001b[1;33m\u001b[0m\u001b[1;33m\u001b[0m\u001b[0m\n\u001b[0;32m    494\u001b[0m \u001b[1;33m\u001b[0m\u001b[0m\n\u001b[1;32m--> 495\u001b[1;33m         \u001b[0m_check_partial_fit_first_call\u001b[0m\u001b[1;33m(\u001b[0m\u001b[0mself\u001b[0m\u001b[1;33m,\u001b[0m \u001b[0mclasses\u001b[0m\u001b[1;33m)\u001b[0m\u001b[1;33m\u001b[0m\u001b[1;33m\u001b[0m\u001b[0m\n\u001b[0m\u001b[0;32m    496\u001b[0m \u001b[1;33m\u001b[0m\u001b[0m\n\u001b[0;32m    497\u001b[0m         \u001b[0mn_classes\u001b[0m \u001b[1;33m=\u001b[0m \u001b[0mself\u001b[0m\u001b[1;33m.\u001b[0m\u001b[0mclasses_\u001b[0m\u001b[1;33m.\u001b[0m\u001b[0mshape\u001b[0m\u001b[1;33m[\u001b[0m\u001b[1;36m0\u001b[0m\u001b[1;33m]\u001b[0m\u001b[1;33m\u001b[0m\u001b[1;33m\u001b[0m\u001b[0m\n",
      "\u001b[1;32m~\\AppData\\Roaming\\Python\\Python38\\site-packages\\sklearn\\utils\\multiclass.py\u001b[0m in \u001b[0;36m_check_partial_fit_first_call\u001b[1;34m(clf, classes)\u001b[0m\n\u001b[0;32m    315\u001b[0m         \u001b[1;32mif\u001b[0m \u001b[0mgetattr\u001b[0m\u001b[1;33m(\u001b[0m\u001b[0mclf\u001b[0m\u001b[1;33m,\u001b[0m \u001b[1;34m'classes_'\u001b[0m\u001b[1;33m,\u001b[0m \u001b[1;32mNone\u001b[0m\u001b[1;33m)\u001b[0m \u001b[1;32mis\u001b[0m \u001b[1;32mnot\u001b[0m \u001b[1;32mNone\u001b[0m\u001b[1;33m:\u001b[0m\u001b[1;33m\u001b[0m\u001b[1;33m\u001b[0m\u001b[0m\n\u001b[0;32m    316\u001b[0m             \u001b[1;32mif\u001b[0m \u001b[1;32mnot\u001b[0m \u001b[0mnp\u001b[0m\u001b[1;33m.\u001b[0m\u001b[0marray_equal\u001b[0m\u001b[1;33m(\u001b[0m\u001b[0mclf\u001b[0m\u001b[1;33m.\u001b[0m\u001b[0mclasses_\u001b[0m\u001b[1;33m,\u001b[0m \u001b[0munique_labels\u001b[0m\u001b[1;33m(\u001b[0m\u001b[0mclasses\u001b[0m\u001b[1;33m)\u001b[0m\u001b[1;33m)\u001b[0m\u001b[1;33m:\u001b[0m\u001b[1;33m\u001b[0m\u001b[1;33m\u001b[0m\u001b[0m\n\u001b[1;32m--> 317\u001b[1;33m                 raise ValueError(\n\u001b[0m\u001b[0;32m    318\u001b[0m                     \u001b[1;34m\"`classes=%r` is not the same as on last call \"\u001b[0m\u001b[1;33m\u001b[0m\u001b[1;33m\u001b[0m\u001b[0m\n\u001b[0;32m    319\u001b[0m                     \"to partial_fit, was: %r\" % (classes, clf.classes_))\n",
      "\u001b[1;31mValueError\u001b[0m: `classes=array([5])` is not the same as on last call to partial_fit, was: array([0, 1, 2, 3, 4])"
     ]
    }
   ],
   "source": [
    "model.partial_fit(X,Y,classes=np.unique(Y))"
   ]
  },
  {
   "cell_type": "code",
   "execution_count": 35,
   "metadata": {},
   "outputs": [
    {
     "data": {
      "text/plain": [
       "[5, 5, 5, 5, 5, 5, 5, 5, 5, 5, 5, 5, 5, 5, 5, 5, 5, 5, 5]"
      ]
     },
     "execution_count": 35,
     "metadata": {},
     "output_type": "execute_result"
    }
   ],
   "source": [
    "Y"
   ]
  },
  {
   "cell_type": "code",
   "execution_count": null,
   "metadata": {},
   "outputs": [],
   "source": []
  }
 ],
 "metadata": {
  "kernelspec": {
   "display_name": "Python 3",
   "language": "python",
   "name": "python3"
  },
  "language_info": {
   "codemirror_mode": {
    "name": "ipython",
    "version": 3
   },
   "file_extension": ".py",
   "mimetype": "text/x-python",
   "name": "python",
   "nbconvert_exporter": "python",
   "pygments_lexer": "ipython3",
   "version": "3.8.3"
  }
 },
 "nbformat": 4,
 "nbformat_minor": 4
}
