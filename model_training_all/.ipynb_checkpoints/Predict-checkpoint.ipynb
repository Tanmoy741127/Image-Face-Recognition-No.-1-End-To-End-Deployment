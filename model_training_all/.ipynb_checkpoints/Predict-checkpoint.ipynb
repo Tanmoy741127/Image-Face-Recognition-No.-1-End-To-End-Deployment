{
 "cells": [
  {
   "cell_type": "code",
   "execution_count": 9,
   "metadata": {},
   "outputs": [],
   "source": [
    "import numpy as np\n",
    "import pandas as pd\n",
    "import matplotlib.pyplot as plt\n",
    "import cv2\n",
    "%matplotlib inline\n",
    "import os\n",
    "import joblib\n",
    "import json\n",
    "import pywt\n"
   ]
  },
  {
   "cell_type": "code",
   "execution_count": 10,
   "metadata": {},
   "outputs": [],
   "source": [
    "face_cascade = cv2.CascadeClassifier('./haarcascades/haarcascade_frontalface_default.xml')\n",
    "eye_cascade = cv2.CascadeClassifier('./haarcascades/haarcascade_eye.xml')\n",
    "model = joblib.load('./saved_model_sgd.pkl')\n",
    "with open(\"./celebrity_key_dict.json\") as f :\n",
    "    celebrities_dic = json.load(f)"
   ]
  },
  {
   "cell_type": "code",
   "execution_count": 11,
   "metadata": {},
   "outputs": [],
   "source": [
    "def get_cropped_image_if_1_face(path):\n",
    "    img = cv2.imread(path)\n",
    "    gray = cv2.cvtColor(img,cv2.COLOR_BGR2GRAY)\n",
    "    faces = face_cascade.detectMultiScale(gray,1.3,5)\n",
    "    if len(faces) >= 1:\n",
    "        for (x,y,w,h) in faces:\n",
    "            roi_color = img[y:y+h,x:x+w]\n",
    "            return roi_color\n",
    "    else:\n",
    "        print(f'{len(faces)} face are present in image : {path}')\n",
    "    return None\n",
    "\n",
    "def wavelet_generaotor(img, mode=\"haar\",level=1):\n",
    "    inArray = img\n",
    "    inArray = cv2.cvtColor(inArray,cv2.COLOR_RGB2GRAY)\n",
    "    inArray = np.float32(inArray)\n",
    "    # Compute And Process Coefficients\n",
    "    coeffs = pywt.wavedec2(inArray,mode,level=level)\n",
    "    coeffs_H = list(coeffs)\n",
    "    coeffs_H[0] *= 0\n",
    "    # Reconstuction\n",
    "    inArray_H = pywt.waverec2(coeffs_H,mode)\n",
    "    inArray_H *= 255\n",
    "    inArray_H = np.uint8(inArray_H)\n",
    "    return inArray_H\n",
    "\n",
    "def predict(img_i):\n",
    "    img  = get_cropped_image_if_1_face(img_i)\n",
    "    if img is not None:\n",
    "        scalled_raw_img = cv2.resize(img,(32,32))\n",
    "        img_wavlet_form=wavelet_generaotor(img,\"db1\",5)\n",
    "        scalled_img_wavlet_form = cv2.resize(img_wavlet_form,(32,32))\n",
    "        stacked_image = np.vstack((scalled_raw_img.reshape(32*32*3,1),scalled_img_wavlet_form.reshape(32*32,1)))\n",
    "        stacked_image = stacked_image.reshape(1,stacked_image.shape[0])\n",
    "        key = model.predict(stacked_image)[0]\n",
    "        for i in celebrities_dic:\n",
    "            if celebrities_dic[i] == key :\n",
    "                print(i)\n",
    "                break\n",
    "    else:\n",
    "        print(\"Error\")"
   ]
  },
  {
   "cell_type": "code",
   "execution_count": 13,
   "metadata": {},
   "outputs": [
    {
     "name": "stdout",
     "output_type": "stream",
     "text": [
      "virat_kohli\n"
     ]
    }
   ],
   "source": [
    "predict('./test.jpg')"
   ]
  },
  {
   "cell_type": "code",
   "execution_count": null,
   "metadata": {},
   "outputs": [],
   "source": []
  }
 ],
 "metadata": {
  "kernelspec": {
   "display_name": "Python 3",
   "language": "python",
   "name": "python3"
  },
  "language_info": {
   "codemirror_mode": {
    "name": "ipython",
    "version": 3
   },
   "file_extension": ".py",
   "mimetype": "text/x-python",
   "name": "python",
   "nbconvert_exporter": "python",
   "pygments_lexer": "ipython3",
   "version": "3.8.3"
  }
 },
 "nbformat": 4,
 "nbformat_minor": 4
}
